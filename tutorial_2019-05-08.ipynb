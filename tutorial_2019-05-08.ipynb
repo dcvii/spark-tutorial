{
 "cells": [
  {
   "cell_type": "code",
   "execution_count": null,
   "metadata": {},
   "outputs": [],
   "source": [
    "print ('Hello World')"
   ]
  },
  {
   "cell_type": "code",
   "execution_count": null,
   "metadata": {},
   "outputs": [],
   "source": [
    "def say_hello(recip):\n",
    "    return 'Hello, {}!'.format(recip)\n",
    "say_hello ('Tim')"
   ]
  },
  {
   "cell_type": "code",
   "execution_count": null,
   "metadata": {},
   "outputs": [],
   "source": [
    "import time\n",
    "time.sleep(3)"
   ]
  },
  {
   "cell_type": "code",
   "execution_count": 1,
   "metadata": {},
   "outputs": [],
   "source": [
    "import numpy as np\n",
    "import pandas as pd\n",
    "import seaborn as sns\n",
    "import matplotlib.pyplot as plt\n",
    "from pyspark.sql import SparkSession\n",
    "\n",
    "sns.set(style=\"darkgrid\")\n",
    "def square(x):\n",
    "    return x * x\n",
    "\n",
    "# create sparksession\n",
    "spark = SparkSession \\\n",
    "    .builder \\\n",
    "    .appName(\"Pysparkexample\") \\\n",
    "    .config(\"spark.some.config.option\", \"some-value\") \\\n",
    "    .getOrCreate()"
   ]
  },
  {
   "cell_type": "code",
   "execution_count": null,
   "metadata": {},
   "outputs": [],
   "source": [
    "%%timeit\n",
    "df = spark.read.csv('Vermont_Vendor_Payments.csv', header='true')"
   ]
  },
  {
   "cell_type": "code",
   "execution_count": 2,
   "metadata": {},
   "outputs": [
    {
     "name": "stdout",
     "output_type": "stream",
     "text": [
      "The column Names are:\n",
      "Quarter Ending\n",
      "Department\n",
      "UnitNo\n",
      "Vendor Number\n",
      "Vendor\n",
      "City\n",
      "State\n",
      "DeptID Description\n",
      "DeptID\n",
      "Amount\n",
      "Account\n",
      "AcctNo\n",
      "Fund Description\n",
      "Fund\n",
      "The total number of rose is: 1555843 \n",
      "The total numbers of coluns is: 14\n",
      "+--------------+--------------------+------+-------------+--------------------+----------+-----+--------------------+----------+------+--------------------+------+--------------------+-----+\n",
      "|Quarter Ending|          Department|UnitNo|Vendor Number|              Vendor|      City|State|  DeptID Description|    DeptID|Amount|             Account|AcctNo|    Fund Description| Fund|\n",
      "+--------------+--------------------+------+-------------+--------------------+----------+-----+--------------------+----------+------+--------------------+------+--------------------+-----+\n",
      "|    03/31/2019|              Health|  3420|   0000283499|    A T & T Mobility|   Atlanta|   GA|       LH Rutland DO|3420021509| 58.08|Telecom-Wireless ...|516659|Federal Revenue Fund|22005|\n",
      "|    03/31/2019|Environmental Con...|  6140|   0000042844|University of Ver...|Burlington|   VT|Mon, Assess & Pla...|6140040225|3239.4|        Other Grants|550500|Federal Revenue Fund|22005|\n",
      "|    03/31/2019|       Public Safety|  2140|   0000283499|    A T & T Mobility|   Atlanta|   GA|        DPS-EM-Other|2140031000|469.23|Telecom-Wireless ...|516659|Federal Revenue Fund|22005|\n",
      "|    03/31/2019|Environmental Con...|  6140|   0000042844|University of Ver...|Burlington|   VT|Lakes and Ponds P...|6140040210|1533.0|        Other Grants|550500|Federal Revenue Fund|22005|\n",
      "|    03/31/2019|              Health|  3420|   0000283499|    A T & T Mobility|   Atlanta|   GA|  LH St Johnsbury DO|3420021511| 88.05|Telecom-Wireless ...|516659|Federal Revenue Fund|22005|\n",
      "+--------------+--------------------+------+-------------+--------------------+----------+-----+--------------------+----------+------+--------------------+------+--------------------+-----+\n",
      "only showing top 5 rows\n",
      "\n"
     ]
    }
   ],
   "source": [
    "df = spark.read.csv('data/Vermont_Vendor_Payments.csv', header='true', inferSchema = True)\n",
    "df = df.withColumn(\"Amount\", df[\"Amount\"].cast(\"double\"))\n",
    "\n",
    "columns = df.columns\n",
    "print ('The column Names are:')\n",
    "for i in columns:\n",
    "    print(i)\n",
    "print ('The total number of rose is:',df.count(), '\\nThe total numbers of coluns is:', len(df.columns))\n",
    "\n",
    "df.show(5)"
   ]
  },
  {
   "cell_type": "code",
   "execution_count": null,
   "metadata": {},
   "outputs": [],
   "source": [
    "df.head()"
   ]
  },
  {
   "cell_type": "code",
   "execution_count": null,
   "metadata": {
    "scrolled": false
   },
   "outputs": [],
   "source": [
    "df.describe().show()"
   ]
  },
  {
   "cell_type": "code",
   "execution_count": null,
   "metadata": {},
   "outputs": [],
   "source": [
    "# I will start by creating a temporary table query with SQL\n",
    "df.createOrReplaceTempView('VermontVendor')\n",
    "spark.sql(\n",
    "'''\n",
    "SELECT `Quarter Ending`, Department, Amount, State FROM VermontVendor\n",
    "LIMIT 10\n",
    "'''\n",
    ").show()"
   ]
  },
  {
   "cell_type": "code",
   "execution_count": 7,
   "metadata": {},
   "outputs": [
    {
     "name": "stdout",
     "output_type": "stream",
     "text": [
      "+--------------+--------------------+--------+-----+\n",
      "|Quarter Ending|          Department|  Amount|State|\n",
      "+--------------+--------------------+--------+-----+\n",
      "|    03/31/2019|              Health|   58.08|   GA|\n",
      "|    03/31/2019|Environmental Con...|  3239.4|   VT|\n",
      "|    03/31/2019|       Public Safety|  469.23|   GA|\n",
      "|    03/31/2019|Environmental Con...|  1533.0|   VT|\n",
      "|    03/31/2019|              Health|   88.05|   GA|\n",
      "|    03/31/2019|Environmental Con...| 14966.0|   VT|\n",
      "|    03/31/2019|Children and Fami...|   336.8|   GA|\n",
      "|    03/31/2019|Environmental Con...|23613.59|   VT|\n",
      "|    03/31/2019|              Health|   58.08|   GA|\n",
      "|    03/31/2019|Forests, Parks & ...|   819.0|   VT|\n",
      "+--------------+--------------------+--------+-----+\n",
      "only showing top 10 rows\n",
      "\n"
     ]
    }
   ],
   "source": [
    "df.select('Quarter Ending', 'Department', 'Amount', 'State').show(10)"
   ]
  },
  {
   "cell_type": "code",
   "execution_count": 4,
   "metadata": {},
   "outputs": [
    {
     "name": "stdout",
     "output_type": "stream",
     "text": [
      "+--------------+--------------------+--------+-----+\n",
      "|Quarter Ending|          Department|  Amount|State|\n",
      "+--------------+--------------------+--------+-----+\n",
      "|    03/31/2019|              Health|   58.08|   GA|\n",
      "|    03/31/2019|Environmental Con...|  3239.4|   VT|\n",
      "|    03/31/2019|       Public Safety|  469.23|   GA|\n",
      "|    03/31/2019|Environmental Con...|  1533.0|   VT|\n",
      "|    03/31/2019|              Health|   88.05|   GA|\n",
      "|    03/31/2019|Environmental Con...| 14966.0|   VT|\n",
      "|    03/31/2019|Children and Fami...|   336.8|   GA|\n",
      "|    03/31/2019|Environmental Con...|23613.59|   VT|\n",
      "|    03/31/2019|              Health|   58.08|   GA|\n",
      "|    03/31/2019|Forests, Parks & ...|   819.0|   VT|\n",
      "+--------------+--------------------+--------+-----+\n",
      "\n"
     ]
    }
   ],
   "source": [
    "# I will start by creating a temporary table query with SQL\n",
    "df.createOrReplaceTempView('VermontVendor')\n",
    "spark.sql(\n",
    "'''\n",
    "SELECT `Quarter Ending`, Department, Amount, State FROM VermontVendor\n",
    "LIMIT 10\n",
    "'''\n",
    ").show()"
   ]
  },
  {
   "cell_type": "code",
   "execution_count": 5,
   "metadata": {},
   "outputs": [
    {
     "data": {
      "image/png": "[encoded data removed]",
      "text/plain": [
       "<Figure size 720x432 with 1 Axes>"
      ]
     },
     "metadata": {
      "needs_background": "light"
     },
     "output_type": "display_data"
    }
   ],
   "source": [
    "plot_df = spark.sql(\n",
    "'''\n",
    "\n",
    "SELECT Department, SUM(Amount) as Total FROM VermontVendor \n",
    "GROUP BY Department\n",
    "ORDER BY Total DESC\n",
    "LIMIT 10\n",
    "\n",
    "'''\n",
    ").toPandas()\n",
    "\n",
    "\n",
    "fig,ax = plt.subplots(1,1,figsize=(10,6))\n",
    "plot_df.plot(x = 'Department', y = 'Total', kind = 'barh', color = 'C0', ax = ax, legend = False)\n",
    "ax.set_xlabel('Department', size = 16)\n",
    "ax.set_ylabel('Total', size = 16)\n",
    "plt.savefig('barplot.png')\n",
    "plt.show()"
   ]
  },
  {
   "cell_type": "code",
   "execution_count": 6,
   "metadata": {},
   "outputs": [
    {
     "data": {
      "image/png": "[encoded data removed]",
      "text/plain": [
       "<Figure size 720x432 with 1 Axes>"
      ]
     },
     "metadata": {
      "needs_background": "light"
     },
     "output_type": "display_data"
    }
   ],
   "source": [
    "plot_df2 = spark.sql(\n",
    "'''\n",
    "SELECT Department, SUM(Amount) as Total FROM VermontVendor \n",
    "GROUP BY Department\n",
    "'''\n",
    ").toPandas()\n",
    "plt.figure(figsize = (10,6))\n",
    "sns.distplot(np.log(plot_df2['Total']))\n",
    "plt.title('Histogram of Log Totals for all Departments in Dataset', size = 16)\n",
    "plt.ylabel('Density', size = 16)\n",
    "plt.xlabel('Log Total', size = 16)\n",
    "plt.savefig('distplot.png')\n",
    "plt.show()"
   ]
  },
  {
   "cell_type": "code",
   "execution_count": null,
   "metadata": {},
   "outputs": [],
   "source": [
    "%%timeit\n",
    "dv_pandas = pd.read_csv('Vermont_Vendor_Payments.csv', low_memory = False)"
   ]
  },
  {
   "cell_type": "code",
   "execution_count": null,
   "metadata": {},
   "outputs": [],
   "source": [
    "y = 10"
   ]
  },
  {
   "cell_type": "code",
   "execution_count": null,
   "metadata": {},
   "outputs": [],
   "source": [
    "x = np.random.randint(1,10)\n",
    "y = square(x)\n",
    "print ('Is %d squared is %d?' % (x,y))"
   ]
  },
  {
   "cell_type": "markdown",
   "metadata": {},
   "source": [
    "## Title\n",
    "# This is a markdown cell. You can see that it doesn't have any [] in it.\n"
   ]
  }
 ],
 "metadata": {
  "kernelspec": {
   "display_name": "Python 3",
   "language": "python",
   "name": "python3"
  },
  "language_info": {
   "codemirror_mode": {
    "name": "ipython",
    "version": 3
   },
   "file_extension": ".py",
   "mimetype": "text/x-python",
   "name": "python",
   "nbconvert_exporter": "python",
   "pygments_lexer": "ipython3",
   "version": "3.7.3"
  }
 },
 "nbformat": 4,
 "nbformat_minor": 2
}
